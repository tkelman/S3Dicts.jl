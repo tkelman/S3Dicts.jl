{
 "cells": [
  {
   "cell_type": "code",
   "execution_count": 6,
   "metadata": {
    "collapsed": false
   },
   "outputs": [],
   "source": [
    "using AWS\n",
    "using AWS.S3\n",
    "awsEnv = AWS.AWSEnv()"
   ]
  },
  {
   "cell_type": "code",
   "execution_count": 9,
   "metadata": {
    "collapsed": false
   },
   "outputs": [
    {
     "ename": "LoadError",
     "evalue": "LoadError: InexactError()\nwhile loading In[9], in expression starting on line 1",
     "output_type": "error",
     "traceback": [
      "LoadError: InexactError()\nwhile loading In[9], in expression starting on line 1",
      "",
      " in EVP_DigestUpdate at /Users/jpwu/.julia/v0.5/AWS/src/crypto.jl:6 [inlined]",
      " in md5(::IOStream) at /Users/jpwu/.julia/v0.5/AWS/src/crypto.jl:99",
      " in do_http(::AWS.AWSEnv, ::AWS.S3.RO) at /Users/jpwu/.julia/v0.5/AWS/src/S3.jl:692",
      " in #do_request#33(::Bool, ::Function, ::AWS.AWSEnv, ::AWS.S3.RO) at /Users/jpwu/.julia/v0.5/AWS/src/S3.jl:651",
      " in #put_object#30(::String, ::AWS.S3.PutObjectOptions, ::String, ::Function, ::AWS.AWSEnv, ::String, ::String, ::IOStream) at /Users/jpwu/.julia/v0.5/AWS/src/S3.jl:549",
      " in put_object(::AWS.AWSEnv, ::String, ::String, ::IOStream) at /Users/jpwu/.julia/v0.5/AWS/src/S3.jl:530"
     ]
    }
   ],
   "source": [
    "AWS.S3.put_object(awsEnv, \"seunglab\", \"jpwu/test.arr\", open(\"/tmp/.keystone_install_lock\"))"
   ]
  }
 ],
 "metadata": {
  "kernelspec": {
   "display_name": "Julia 0.5.0",
   "language": "julia",
   "name": "julia-0.5"
  },
  "language_info": {
   "file_extension": ".jl",
   "mimetype": "application/julia",
   "name": "julia",
   "version": "0.5.0"
  }
 },
 "nbformat": 4,
 "nbformat_minor": 0
}
